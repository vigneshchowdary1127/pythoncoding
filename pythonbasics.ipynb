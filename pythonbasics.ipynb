{
  "cells": [
    {
      "cell_type": "markdown",
      "metadata": {
        "id": "view-in-github",
        "colab_type": "text"
      },
      "source": [
        "<a href=\"https://colab.research.google.com/github/vigneshchowdary1127/pythoncoding/blob/main/pythonbasics.ipynb\" target=\"_parent\"><img src=\"https://colab.research.google.com/assets/colab-badge.svg\" alt=\"Open In Colab\"/></a>"
      ]
    },
    {
      "cell_type": "code",
      "execution_count": null,
      "metadata": {
        "colab": {
          "base_uri": "https://localhost:8080/"
        },
        "id": "b2hXhseK57vC",
        "outputId": "f33ef5de-cc7f-45c1-f09f-221d72a0dfd6"
      },
      "outputs": [
        {
          "data": {
            "text/plain": [
              "5"
            ]
          },
          "execution_count": 2,
          "metadata": {},
          "output_type": "execute_result"
        }
      ],
      "source": [
        "a=2+3\n",
        "a"
      ]
    },
    {
      "cell_type": "code",
      "execution_count": null,
      "metadata": {
        "id": "wrx7py5MMTsG"
      },
      "outputs": [],
      "source": []
    },
    {
      "cell_type": "code",
      "execution_count": null,
      "metadata": {
        "colab": {
          "base_uri": "https://localhost:8080/"
        },
        "id": "H1_56LvEBriJ",
        "outputId": "59c5ed4b-45ce-4c89-d7aa-6dd51605b274"
      },
      "outputs": [
        {
          "name": "stdout",
          "output_type": "stream",
          "text": [
            "hello world\n"
          ]
        }
      ],
      "source": [
        "print('hello world')"
      ]
    },
    {
      "cell_type": "code",
      "execution_count": null,
      "metadata": {
        "colab": {
          "base_uri": "https://localhost:8080/"
        },
        "id": "828MGmsF6r7p",
        "outputId": "5b6d8c37-535e-4738-edb4-c3bb3717679b"
      },
      "outputs": [
        {
          "name": "stdout",
          "output_type": "stream",
          "text": [
            "2\n",
            "5\n"
          ]
        },
        {
          "data": {
            "text/plain": [
              "2"
            ]
          },
          "execution_count": 5,
          "metadata": {},
          "output_type": "execute_result"
        }
      ],
      "source": [
        "a=int(input())\n",
        "b=int(input())\n",
        "c=b//a\n",
        "c"
      ]
    },
    {
      "cell_type": "code",
      "execution_count": null,
      "metadata": {
        "colab": {
          "base_uri": "https://localhost:8080/"
        },
        "id": "pQTOAFp37Dti",
        "outputId": "a8533a2b-8e14-45d2-a0ba-f1fe5cbf769b"
      },
      "outputs": [
        {
          "data": {
            "text/plain": [
              "16"
            ]
          },
          "execution_count": 6,
          "metadata": {},
          "output_type": "execute_result"
        }
      ],
      "source": [
        "a=2\n",
        "b=4\n",
        "c=a**b\n",
        "c"
      ]
    },
    {
      "cell_type": "code",
      "execution_count": null,
      "metadata": {
        "colab": {
          "base_uri": "https://localhost:8080/"
        },
        "id": "aos_aDKn7LIZ",
        "outputId": "a319cc8c-4e61-41c0-d68f-d9e4dc294694"
      },
      "outputs": [
        {
          "data": {
            "text/plain": [
              "1"
            ]
          },
          "execution_count": 7,
          "metadata": {},
          "output_type": "execute_result"
        }
      ],
      "source": [
        "a=10\n",
        "b=3\n",
        "c=a%b\n",
        "c\n"
      ]
    },
    {
      "cell_type": "code",
      "execution_count": null,
      "metadata": {
        "colab": {
          "base_uri": "https://localhost:8080/",
          "height": 53
        },
        "id": "Tpqae1F47R8D",
        "outputId": "3b76b938-22d3-4d4e-ae97-aa690f5b2564"
      },
      "outputs": [
        {
          "name": "stdout",
          "output_type": "stream",
          "text": [
            "vignesh\n"
          ]
        },
        {
          "data": {
            "application/vnd.google.colaboratory.intrinsic+json": {
              "type": "string"
            },
            "text/plain": [
              "'vignesh'"
            ]
          },
          "execution_count": 13,
          "metadata": {},
          "output_type": "execute_result"
        }
      ],
      "source": [
        "print('vignesh')\n",
        "'vignesh'"
      ]
    },
    {
      "cell_type": "code",
      "execution_count": null,
      "metadata": {
        "colab": {
          "base_uri": "https://localhost:8080/",
          "height": 36
        },
        "id": "3Qn-QK_W789_",
        "outputId": "32d7f123-7fc5-4b9e-cf34-166ccc4be8a5"
      },
      "outputs": [
        {
          "data": {
            "application/vnd.google.colaboratory.intrinsic+json": {
              "type": "string"
            },
            "text/plain": [
              "'vigneshchowdary'"
            ]
          },
          "execution_count": 14,
          "metadata": {},
          "output_type": "execute_result"
        }
      ],
      "source": [
        "'vignesh'+ 'chowdary'"
      ]
    },
    {
      "cell_type": "code",
      "execution_count": null,
      "metadata": {
        "colab": {
          "base_uri": "https://localhost:8080/",
          "height": 36
        },
        "id": "9v8U8hB48Iu1",
        "outputId": "5465fd0b-698f-4e51-8596-9f467e751974"
      },
      "outputs": [
        {
          "data": {
            "application/vnd.google.colaboratory.intrinsic+json": {
              "type": "string"
            },
            "text/plain": [
              "'vigneshhhhhhhhhhh'"
            ]
          },
          "execution_count": 16,
          "metadata": {},
          "output_type": "execute_result"
        }
      ],
      "source": [
        "'vignesh'+'h'*10"
      ]
    },
    {
      "cell_type": "code",
      "execution_count": null,
      "metadata": {
        "colab": {
          "base_uri": "https://localhost:8080/",
          "height": 122
        },
        "id": "S3M9QGfO8t-g",
        "outputId": "8ad2d06c-f9e6-4930-b7d8-b1516602c513"
      },
      "outputs": [
        {
          "name": "stdout",
          "output_type": "stream",
          "text": [
            "v\n",
            "s\n",
            "vig\n",
            "vignesh chowdary\n",
            "16\n"
          ]
        },
        {
          "data": {
            "application/vnd.google.colaboratory.intrinsic+json": {
              "type": "string"
            },
            "text/plain": [
              "'vignesh chowdary'"
            ]
          },
          "execution_count": 33,
          "metadata": {},
          "output_type": "execute_result"
        }
      ],
      "source": [
        "name='vignesh'\n",
        "c=name+' chowdary'\n",
        "print(name[0])       #strings\n",
        "print(name[-2])\n",
        "print(name[0:3]) #numbers at index 0,1,2\n",
        "print(c[0:])\n",
        "print(len(c))\n",
        "c"
      ]
    },
    {
      "cell_type": "code",
      "execution_count": null,
      "metadata": {
        "colab": {
          "base_uri": "https://localhost:8080/"
        },
        "id": "7HOeLmUA97PA",
        "outputId": "36bd355e-e240-4765-d631-085e39c45b02"
      },
      "outputs": [
        {
          "name": "stdout",
          "output_type": "stream",
          "text": [
            "1\n",
            "[1, 2, 3, 4]\n",
            "8\n",
            "['vigy', 'hari', 'shaiky']\n",
            "[[1, 2, 3, 4, 5, 6, 7, 8], ['vigy', 'hari', 'shaiky']]\n",
            "[1, 2, 3, 4, 5, 6, 7, 8, 9]\n",
            "[-1, 1, 2, 3, 4, 5, 6, 7, 8, 9]\n",
            "[1, 2, 3, 4, 5, 6, 7, 8, 9]\n",
            "9\n",
            "1\n",
            "[2, 3, 4, 5, 6, 7, 8]\n",
            "[2, 6, 7, 8]\n",
            "[2, 6, 7, 8, 11, 12, 13, 1114]\n",
            "2\n",
            "1114\n",
            "1173\n",
            "[2, 6, 7, 8, 11, 12, 13, 1114]\n",
            "[]\n"
          ]
        }
      ],
      "source": [
        "#lists\n",
        "\n",
        "a=[1,2,3,4,5,6,7,8]\n",
        "print(a[0])\n",
        "print(a[0:4])\n",
        "print(a[-1])\n",
        "\n",
        "b=['vigy','hari','shaiky']\n",
        "print(b)\n",
        "c=[a,b]\n",
        "print(c)\n",
        "(a.append(9))   #append to add a number at end\n",
        "print(a)\n",
        "\n",
        "a.insert(0,-1)  #insert to add a number at specific index\n",
        "print(a)\n",
        "\n",
        "a.remove(-1)    #to remove a specific number\n",
        "print(a)\n",
        "print(a.pop())    #to remove number index is using pop\n",
        "print(a.pop(0))\n",
        "print(a)\n",
        "del a[1:4]\n",
        "print(a)\n",
        "a.extend([11,12,13,1114])\n",
        "print(a)\n",
        "print(min(a))\n",
        "print(max(a))\n",
        "print(sum(a))\n",
        "a.sort()\n",
        "print(a)\n",
        "a.clear()       #clear to clean all the list\n",
        "print(a)"
      ]
    },
    {
      "cell_type": "code",
      "execution_count": null,
      "metadata": {
        "colab": {
          "base_uri": "https://localhost:8080/",
          "height": 36
        },
        "id": "Z4I5toGvGaRz",
        "outputId": "84ce1bb8-b7c1-4d44-ad48-f214e0d782a7"
      },
      "outputs": [
        {
          "data": {
            "application/vnd.google.colaboratory.intrinsic+json": {
              "type": "string"
            },
            "text/plain": [
              "'avi'"
            ]
          },
          "execution_count": 2,
          "metadata": {},
          "output_type": "execute_result"
        }
      ],
      "source": [
        "'h'\n",
        "'avi'"
      ]
    },
    {
      "cell_type": "code",
      "execution_count": null,
      "metadata": {
        "colab": {
          "base_uri": "https://localhost:8080/"
        },
        "id": "96-hvY88CeCD",
        "outputId": "81eeea0c-f225-4dbd-eab0-b8ac30b13f8f"
      },
      "outputs": [
        {
          "name": "stdout",
          "output_type": "stream",
          "text": [
            "not found\n"
          ]
        }
      ],
      "source": [
        "data={1:'hdsvcv',2:'cbsjbc',3:'gsvcsgj'}\n",
        "print(data.get(6,'not found'))   #dict"
      ]
    },
    {
      "cell_type": "code",
      "execution_count": null,
      "metadata": {
        "colab": {
          "base_uri": "https://localhost:8080/"
        },
        "id": "DOBH77C1FK9X",
        "outputId": "e34bed89-a935-4a15-ff60-190babf7d39f"
      },
      "outputs": [
        {
          "name": "stdout",
          "output_type": "stream",
          "text": [
            "{'a': 'king', 'b': 'queen', 'c': 'minister', 'd': 'solider'}\n",
            "{'a': 'king', 'b': 'queen', 'c': 'minister', 'd': 'solider', 'e': 'maid'}\n",
            "{'a': 'king', 'b': 'queen', 'c': 'minister', 'e': 'maid'}\n"
          ]
        }
      ],
      "source": [
        "#dict with lists\n",
        "A=['a','b','c','d']\n",
        "B=['king','queen','minister','solider']\n",
        "x=dict(zip(A,B))\n",
        "print(x)\n",
        "x['e']='maid'      #to add a key and a value\n",
        "print(x)\n",
        "del x['d']         #to remove a key and value\n",
        "print(x)"
      ]
    },
    {
      "cell_type": "code",
      "execution_count": null,
      "metadata": {
        "colab": {
          "base_uri": "https://localhost:8080/"
        },
        "id": "HIADhX43JZdO",
        "outputId": "eb83a539-fe7b-4934-9028-4468a9b77c9b"
      },
      "outputs": [
        {
          "name": "stdout",
          "output_type": "stream",
          "text": [
            "soldier\n"
          ]
        }
      ],
      "source": [
        "x={'a':'king','b':'queen','c':['minister','commander'],'d':{'d1':'soldier','d2':'maid'}}\n",
        "print(x['d']['d1'])"
      ]
    },
    {
      "cell_type": "code",
      "execution_count": null,
      "metadata": {
        "colab": {
          "base_uri": "https://localhost:8080/"
        },
        "id": "2LjbjD6qMVEU",
        "outputId": "279c2c65-d184-4d2a-ba33-66a2d5c526f3"
      },
      "outputs": [
        {
          "name": "stdout",
          "output_type": "stream",
          "text": [
            "34\n",
            "5\n",
            "74\n",
            "834\n",
            "834\n",
            "74\n",
            "73\n",
            "53\n",
            "53\n",
            "73\n"
          ]
        }
      ],
      "source": [
        "#swapinng\n",
        "a=5\n",
        "b=34\n",
        "\n",
        "temp=a\n",
        "a=b\n",
        "b=temp\n",
        "\n",
        "print(a)\n",
        "print(b)\n",
        "\n",
        "#without using third variable\n",
        "a=int(input())\n",
        "b=int(input())\n",
        "a=a^b\n",
        "b=a^b\n",
        "a=a^b\n",
        "print(a)\n",
        "print(b)\n",
        "\n",
        "#swaping inn one line\n",
        "a=int(input())\n",
        "b=int(input())\n",
        "a,b=b,a\n",
        "print(a)\n",
        "print(b)"
      ]
    },
    {
      "cell_type": "code",
      "execution_count": null,
      "metadata": {
        "colab": {
          "base_uri": "https://localhost:8080/",
          "height": 53
        },
        "id": "mNLnCiWNOuQs",
        "outputId": "d60bb404-03c5-4244-c3c0-5161ab971f77"
      },
      "outputs": [
        {
          "name": "stdout",
          "output_type": "stream",
          "text": [
            "-46\n"
          ]
        },
        {
          "data": {
            "application/vnd.google.colaboratory.intrinsic+json": {
              "type": "string"
            },
            "text/plain": [
              "'0b101101'"
            ]
          },
          "execution_count": 17,
          "metadata": {},
          "output_type": "execute_result"
        }
      ],
      "source": [
        "#bitwise operators\n",
        "#compliment\n",
        "print(~45)\n",
        "print(bin(45))"
      ]
    },
    {
      "cell_type": "code",
      "execution_count": null,
      "metadata": {
        "colab": {
          "base_uri": "https://localhost:8080/"
        },
        "id": "PlqmIfiKdYT9",
        "outputId": "7185ebe5-8fdf-4a91-af7c-6e25ec46b79a"
      },
      "outputs": [
        {
          "name": "stdout",
          "output_type": "stream",
          "text": [
            "18.788294228055936\n",
            "2\n",
            "3\n",
            "81\n",
            "81.0\n"
          ]
        }
      ],
      "source": [
        "import math\n",
        "#immport math is module, by importing the math module we can do all the math functions\n",
        "a=math.sqrt(353)\n",
        "print(a)\n",
        "#what is floor and ceil?\n",
        "# floor will give the min no and the ceil will give the max number\n",
        "b=2.5\n",
        "print(math.floor(b))  #min integer\n",
        "print(math.ceil(b))   #max integer\n",
        "a=3**4\n",
        "print(a)\n",
        "print(math.pow(3,4))\n"
      ]
    },
    {
      "cell_type": "code",
      "execution_count": null,
      "metadata": {
        "colab": {
          "background_save": true
        },
        "id": "eMXMm34Qf-cv",
        "outputId": "9c47361a-19d7-42e9-d75d-632e8e9149c2"
      },
      "outputs": [
        {
          "name": "stdout",
          "output_type": "stream",
          "text": [
            "3.141592653589793\n"
          ]
        }
      ],
      "source": [
        "#alised\n",
        "#allocating a name to key words\n"
      ]
    }
  ],
  "metadata": {
    "colab": {
      "provenance": [],
      "authorship_tag": "ABX9TyM5sJRqncvhbB92o4meIIF7",
      "include_colab_link": true
    },
    "kernelspec": {
      "display_name": "Python 3",
      "name": "python3"
    },
    "language_info": {
      "name": "python"
    }
  },
  "nbformat": 4,
  "nbformat_minor": 0
}